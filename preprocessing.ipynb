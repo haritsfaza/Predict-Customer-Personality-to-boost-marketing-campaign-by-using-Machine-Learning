{
 "cells": [
  {
   "cell_type": "code",
   "execution_count": 1,
   "id": "a707cc3e",
   "metadata": {},
   "outputs": [],
   "source": [
    "import pandas as pd\n",
    "\n",
    "df =  pd.read_csv('marketing_campaign_data.csv')"
   ]
  },
  {
   "cell_type": "code",
   "execution_count": null,
   "id": "307045e9",
   "metadata": {},
   "outputs": [],
   "source": [
    "# Check data null\n",
    "null_counts = df.isnull().sum()\n",
    "\n",
    "# Deleted null\n",
    "df_cleaned = df.dropna()\n",
    "\n",
    "# Deleted duplicate date Menghapus data duplikat\n",
    "df_cleaned = df_cleaned.drop_duplicates()"
   ]
  },
  {
   "cell_type": "code",
   "execution_count": 9,
   "id": "c98ec668",
   "metadata": {},
   "outputs": [],
   "source": [
    "# Deleted coulumn\n",
    "df.drop(columns= ['Unnamed: 0', 'Z_CostContact', 'Z_Revenue'], inplace=True)"
   ]
  },
  {
   "cell_type": "code",
   "execution_count": 4,
   "id": "db796bc0",
   "metadata": {},
   "outputs": [],
   "source": [
    "# Identification categorical coulumn\n",
    "categorical_cols = df_cleaned.select_dtypes(include=['object']).columns\n",
    "\n",
    "# One-hot encoding\n",
    "df_encoded = pd.get_dummies(df_cleaned, columns=categorical_cols, drop_first=True)"
   ]
  },
  {
   "cell_type": "code",
   "execution_count": 5,
   "id": "02ded20e",
   "metadata": {},
   "outputs": [],
   "source": [
    "from sklearn.preprocessing import StandardScaler\n",
    "\n",
    "# Numeric coulumn\n",
    "numeric_cols = df_encoded.select_dtypes(include=['int64', 'float64']).columns\n",
    "\n",
    "# Standardization\n",
    "scaler = StandardScaler()\n",
    "df_encoded[numeric_cols] = scaler.fit_transform(df_encoded[numeric_cols])"
   ]
  }
 ],
 "metadata": {
  "kernelspec": {
   "display_name": "base",
   "language": "python",
   "name": "python3"
  },
  "language_info": {
   "codemirror_mode": {
    "name": "ipython",
    "version": 3
   },
   "file_extension": ".py",
   "mimetype": "text/x-python",
   "name": "python",
   "nbconvert_exporter": "python",
   "pygments_lexer": "ipython3",
   "version": "3.12.7"
  }
 },
 "nbformat": 4,
 "nbformat_minor": 5
}
